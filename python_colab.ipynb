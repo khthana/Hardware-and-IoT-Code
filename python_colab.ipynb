{
  "nbformat": 4,
  "nbformat_minor": 0,
  "metadata": {
    "colab": {
      "name": "python_colab.ipynb",
      "provenance": [],
      "authorship_tag": "ABX9TyMhAPj4bcK9Gzn21imDk7i+",
      "include_colab_link": true
    },
    "kernelspec": {
      "name": "python3",
      "display_name": "Python 3"
    },
    "language_info": {
      "name": "python"
    }
  },
  "cells": [
    {
      "cell_type": "markdown",
      "metadata": {
        "id": "view-in-github",
        "colab_type": "text"
      },
      "source": [
        "<a href=\"https://colab.research.google.com/github/khthana/Hardware-and-IoT-Code/blob/main/python_colab.ipynb\" target=\"_parent\"><img src=\"https://colab.research.google.com/assets/colab-badge.svg\" alt=\"Open In Colab\"/></a>"
      ]
    },
    {
      "cell_type": "markdown",
      "metadata": {
        "id": "MHBSEsKFFK3-"
      },
      "source": [
        "-------------------------------------------\n",
        " คำสั่ง print ใช้ในการแสดงผล \n",
        "-------------------------------------------"
      ]
    },
    {
      "cell_type": "code",
      "metadata": {
        "id": "PaIdCXIHUlW0"
      },
      "source": [
        "print(\"Hello Python world!\")"
      ],
      "execution_count": null,
      "outputs": []
    },
    {
      "cell_type": "markdown",
      "metadata": {
        "id": "qVCAvG6lFagp"
      },
      "source": [
        "String เป็นข้อความ จะใช้ \"\" หรือ '' ครอบ\n"
      ]
    },
    {
      "cell_type": "code",
      "metadata": {
        "id": "jLWlwhoOFrFd"
      },
      "source": [
        "print(\"Hello Python world!\")\n",
        "print('Hello KMITL!')"
      ],
      "execution_count": null,
      "outputs": []
    },
    {
      "cell_type": "markdown",
      "metadata": {
        "id": "THxXT6rfFwih"
      },
      "source": [
        "Ex.1.1 ให้ใช้คำสั่ง print พิมพ์ข้อความ ต่อไปนี้ออกจอภาพ\n",
        "Python Print Function\n",
        "The function is declared like this:\n",
        "print('what to print')"
      ]
    },
    {
      "cell_type": "code",
      "metadata": {
        "id": "tVQ5CbIXF6J_"
      },
      "source": [
        ""
      ],
      "execution_count": null,
      "outputs": []
    }
  ]
}